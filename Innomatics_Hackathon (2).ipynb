{
  "nbformat": 4,
  "nbformat_minor": 0,
  "metadata": {
    "colab": {
      "name": "Innomatics Hackathon.ipynb",
      "provenance": [],
      "collapsed_sections": [],
      "toc_visible": true
    },
    "kernelspec": {
      "name": "python3",
      "display_name": "Python 3"
    },
    "language_info": {
      "name": "python"
    }
  },
  "cells": [
    {
      "cell_type": "code",
      "metadata": {
        "id": "tpAy7kR73Q_o"
      },
      "source": [
        "#importing important libraries\n",
        "import pandas as pd\n",
        "import matplotlib.pyplot as plt\n",
        "import seaborn as sns\n",
        "import numpy as np\n",
        "import warnings\n",
        "warnings.filterwarnings('ignore')"
      ],
      "execution_count": 64,
      "outputs": []
    },
    {
      "cell_type": "code",
      "metadata": {
        "id": "1fr5OlJh3c3I"
      },
      "source": [
        "#importing dataset\n",
        "df=pd.read_csv('data.csv')"
      ],
      "execution_count": 65,
      "outputs": []
    },
    {
      "cell_type": "code",
      "metadata": {
        "colab": {
          "base_uri": "https://localhost:8080/",
          "height": 204
        },
        "id": "8qfOcJUC3dCO",
        "outputId": "b6f2fe1b-4877-49af-d3e8-408b24a2f591"
      },
      "source": [
        "#Checking first five data\n",
        "df.head()"
      ],
      "execution_count": 66,
      "outputs": [
        {
          "output_type": "execute_result",
          "data": {
            "text/html": [
              "<div>\n",
              "<style scoped>\n",
              "    .dataframe tbody tr th:only-of-type {\n",
              "        vertical-align: middle;\n",
              "    }\n",
              "\n",
              "    .dataframe tbody tr th {\n",
              "        vertical-align: top;\n",
              "    }\n",
              "\n",
              "    .dataframe thead th {\n",
              "        text-align: right;\n",
              "    }\n",
              "</style>\n",
              "<table border=\"1\" class=\"dataframe\">\n",
              "  <thead>\n",
              "    <tr style=\"text-align: right;\">\n",
              "      <th></th>\n",
              "      <th>x1</th>\n",
              "      <th>x2</th>\n",
              "      <th>y</th>\n",
              "    </tr>\n",
              "  </thead>\n",
              "  <tbody>\n",
              "    <tr>\n",
              "      <th>0</th>\n",
              "      <td>-119.366669</td>\n",
              "      <td>115.000000</td>\n",
              "      <td>1</td>\n",
              "    </tr>\n",
              "    <tr>\n",
              "      <th>1</th>\n",
              "      <td>-101.108044</td>\n",
              "      <td>97.777159</td>\n",
              "      <td>1</td>\n",
              "    </tr>\n",
              "    <tr>\n",
              "      <th>2</th>\n",
              "      <td>-130.278658</td>\n",
              "      <td>106.767654</td>\n",
              "      <td>1</td>\n",
              "    </tr>\n",
              "    <tr>\n",
              "      <th>3</th>\n",
              "      <td>-114.703415</td>\n",
              "      <td>101.195477</td>\n",
              "      <td>1</td>\n",
              "    </tr>\n",
              "    <tr>\n",
              "      <th>4</th>\n",
              "      <td>-119.366669</td>\n",
              "      <td>115.000000</td>\n",
              "      <td>1</td>\n",
              "    </tr>\n",
              "  </tbody>\n",
              "</table>\n",
              "</div>"
            ],
            "text/plain": [
              "           x1          x2  y\n",
              "0 -119.366669  115.000000  1\n",
              "1 -101.108044   97.777159  1\n",
              "2 -130.278658  106.767654  1\n",
              "3 -114.703415  101.195477  1\n",
              "4 -119.366669  115.000000  1"
            ]
          },
          "metadata": {
            "tags": []
          },
          "execution_count": 66
        }
      ]
    },
    {
      "cell_type": "markdown",
      "metadata": {
        "id": "cOTzOn38HQZB"
      },
      "source": [
        "Observation:\n",
        "\n",
        "*   Dataset has x1, x2, y column\n",
        "*   x1 and x2 are input\n",
        "*   y is the target variable\n",
        "*   It has negative values also\n",
        "\n"
      ]
    },
    {
      "cell_type": "code",
      "metadata": {
        "colab": {
          "base_uri": "https://localhost:8080/"
        },
        "id": "ySpJIYfV3qKF",
        "outputId": "2134dea7-f73b-48bd-e960-850cf5be2bbc"
      },
      "source": [
        "#Information about data\n",
        "df.info()"
      ],
      "execution_count": 67,
      "outputs": [
        {
          "output_type": "stream",
          "text": [
            "<class 'pandas.core.frame.DataFrame'>\n",
            "RangeIndex: 2227 entries, 0 to 2226\n",
            "Data columns (total 3 columns):\n",
            " #   Column  Non-Null Count  Dtype  \n",
            "---  ------  --------------  -----  \n",
            " 0   x1      2222 non-null   float64\n",
            " 1   x2      2224 non-null   float64\n",
            " 2   y       2227 non-null   int64  \n",
            "dtypes: float64(2), int64(1)\n",
            "memory usage: 52.3 KB\n"
          ],
          "name": "stdout"
        }
      ]
    },
    {
      "cell_type": "markdown",
      "metadata": {
        "id": "mOcZEHOuHypq"
      },
      "source": [
        "Observation:\n",
        "\n",
        "*   Dataset has null values in x1 and x2.\n",
        "\n"
      ]
    },
    {
      "cell_type": "markdown",
      "metadata": {
        "id": "BI8p9O6BPYv5"
      },
      "source": [
        "\n",
        "**Summary Statistics**"
      ]
    },
    {
      "cell_type": "code",
      "metadata": {
        "colab": {
          "base_uri": "https://localhost:8080/",
          "height": 297
        },
        "id": "p6AnhEQY3wX9",
        "outputId": "c7d085c9-bbbf-4a21-e729-af2ab2b70e56"
      },
      "source": [
        "df.describe()"
      ],
      "execution_count": 68,
      "outputs": [
        {
          "output_type": "execute_result",
          "data": {
            "text/html": [
              "<div>\n",
              "<style scoped>\n",
              "    .dataframe tbody tr th:only-of-type {\n",
              "        vertical-align: middle;\n",
              "    }\n",
              "\n",
              "    .dataframe tbody tr th {\n",
              "        vertical-align: top;\n",
              "    }\n",
              "\n",
              "    .dataframe thead th {\n",
              "        text-align: right;\n",
              "    }\n",
              "</style>\n",
              "<table border=\"1\" class=\"dataframe\">\n",
              "  <thead>\n",
              "    <tr style=\"text-align: right;\">\n",
              "      <th></th>\n",
              "      <th>x1</th>\n",
              "      <th>x2</th>\n",
              "      <th>y</th>\n",
              "    </tr>\n",
              "  </thead>\n",
              "  <tbody>\n",
              "    <tr>\n",
              "      <th>count</th>\n",
              "      <td>2222.000000</td>\n",
              "      <td>2.224000e+03</td>\n",
              "      <td>2227.000000</td>\n",
              "    </tr>\n",
              "    <tr>\n",
              "      <th>mean</th>\n",
              "      <td>-4.818766</td>\n",
              "      <td>8.947626e+04</td>\n",
              "      <td>0.442299</td>\n",
              "    </tr>\n",
              "    <tr>\n",
              "      <th>std</th>\n",
              "      <td>74.939909</td>\n",
              "      <td>2.983323e+06</td>\n",
              "      <td>0.496771</td>\n",
              "    </tr>\n",
              "    <tr>\n",
              "      <th>min</th>\n",
              "      <td>-134.369160</td>\n",
              "      <td>-1.348761e+02</td>\n",
              "      <td>0.000000</td>\n",
              "    </tr>\n",
              "    <tr>\n",
              "      <th>25%</th>\n",
              "      <td>-71.757030</td>\n",
              "      <td>-8.012983e+01</td>\n",
              "      <td>0.000000</td>\n",
              "    </tr>\n",
              "    <tr>\n",
              "      <th>50%</th>\n",
              "      <td>-9.836555</td>\n",
              "      <td>-1.046151e+00</td>\n",
              "      <td>0.000000</td>\n",
              "    </tr>\n",
              "    <tr>\n",
              "      <th>75%</th>\n",
              "      <td>59.813962</td>\n",
              "      <td>6.389086e+01</td>\n",
              "      <td>1.000000</td>\n",
              "    </tr>\n",
              "    <tr>\n",
              "      <th>max</th>\n",
              "      <td>134.508687</td>\n",
              "      <td>1.000000e+08</td>\n",
              "      <td>1.000000</td>\n",
              "    </tr>\n",
              "  </tbody>\n",
              "</table>\n",
              "</div>"
            ],
            "text/plain": [
              "                x1            x2            y\n",
              "count  2222.000000  2.224000e+03  2227.000000\n",
              "mean     -4.818766  8.947626e+04     0.442299\n",
              "std      74.939909  2.983323e+06     0.496771\n",
              "min    -134.369160 -1.348761e+02     0.000000\n",
              "25%     -71.757030 -8.012983e+01     0.000000\n",
              "50%      -9.836555 -1.046151e+00     0.000000\n",
              "75%      59.813962  6.389086e+01     1.000000\n",
              "max     134.508687  1.000000e+08     1.000000"
            ]
          },
          "metadata": {
            "tags": []
          },
          "execution_count": 68
        }
      ]
    },
    {
      "cell_type": "markdown",
      "metadata": {
        "id": "TTJLmEr3IYh-"
      },
      "source": [
        "Observation:\n",
        "\n",
        "*   It shows the statistics about dataset\n"
      ]
    },
    {
      "cell_type": "code",
      "metadata": {
        "colab": {
          "base_uri": "https://localhost:8080/"
        },
        "id": "3LPmeOTp316r",
        "outputId": "1e864411-3513-4e4a-9adb-07d43c9ae67e"
      },
      "source": [
        "#Checking null values\n",
        "df.isnull().sum()"
      ],
      "execution_count": 69,
      "outputs": [
        {
          "output_type": "execute_result",
          "data": {
            "text/plain": [
              "x1    5\n",
              "x2    3\n",
              "y     0\n",
              "dtype: int64"
            ]
          },
          "metadata": {
            "tags": []
          },
          "execution_count": 69
        }
      ]
    },
    {
      "cell_type": "code",
      "metadata": {
        "colab": {
          "base_uri": "https://localhost:8080/",
          "height": 297
        },
        "id": "XoBH9aPM3dFI",
        "outputId": "5b57a36a-745f-4a3f-8ac4-12104635d960"
      },
      "source": [
        "#checking nan values in each row\n",
        "df[pd.isnull(df).any(axis = 1)]"
      ],
      "execution_count": 70,
      "outputs": [
        {
          "output_type": "execute_result",
          "data": {
            "text/html": [
              "<div>\n",
              "<style scoped>\n",
              "    .dataframe tbody tr th:only-of-type {\n",
              "        vertical-align: middle;\n",
              "    }\n",
              "\n",
              "    .dataframe tbody tr th {\n",
              "        vertical-align: top;\n",
              "    }\n",
              "\n",
              "    .dataframe thead th {\n",
              "        text-align: right;\n",
              "    }\n",
              "</style>\n",
              "<table border=\"1\" class=\"dataframe\">\n",
              "  <thead>\n",
              "    <tr style=\"text-align: right;\">\n",
              "      <th></th>\n",
              "      <th>x1</th>\n",
              "      <th>x2</th>\n",
              "      <th>y</th>\n",
              "    </tr>\n",
              "  </thead>\n",
              "  <tbody>\n",
              "    <tr>\n",
              "      <th>36</th>\n",
              "      <td>NaN</td>\n",
              "      <td>116.138522</td>\n",
              "      <td>1</td>\n",
              "    </tr>\n",
              "    <tr>\n",
              "      <th>44</th>\n",
              "      <td>-99.627522</td>\n",
              "      <td>NaN</td>\n",
              "      <td>1</td>\n",
              "    </tr>\n",
              "    <tr>\n",
              "      <th>98</th>\n",
              "      <td>NaN</td>\n",
              "      <td>36.905402</td>\n",
              "      <td>1</td>\n",
              "    </tr>\n",
              "    <tr>\n",
              "      <th>268</th>\n",
              "      <td>NaN</td>\n",
              "      <td>-116.385719</td>\n",
              "      <td>1</td>\n",
              "    </tr>\n",
              "    <tr>\n",
              "      <th>1084</th>\n",
              "      <td>NaN</td>\n",
              "      <td>34.714328</td>\n",
              "      <td>0</td>\n",
              "    </tr>\n",
              "    <tr>\n",
              "      <th>1092</th>\n",
              "      <td>55.162258</td>\n",
              "      <td>NaN</td>\n",
              "      <td>0</td>\n",
              "    </tr>\n",
              "    <tr>\n",
              "      <th>1318</th>\n",
              "      <td>NaN</td>\n",
              "      <td>53.182191</td>\n",
              "      <td>0</td>\n",
              "    </tr>\n",
              "    <tr>\n",
              "      <th>1430</th>\n",
              "      <td>-74.126054</td>\n",
              "      <td>NaN</td>\n",
              "      <td>0</td>\n",
              "    </tr>\n",
              "  </tbody>\n",
              "</table>\n",
              "</div>"
            ],
            "text/plain": [
              "             x1          x2  y\n",
              "36          NaN  116.138522  1\n",
              "44   -99.627522         NaN  1\n",
              "98          NaN   36.905402  1\n",
              "268         NaN -116.385719  1\n",
              "1084        NaN   34.714328  0\n",
              "1092  55.162258         NaN  0\n",
              "1318        NaN   53.182191  0\n",
              "1430 -74.126054         NaN  0"
            ]
          },
          "metadata": {
            "tags": []
          },
          "execution_count": 70
        }
      ]
    },
    {
      "cell_type": "markdown",
      "metadata": {
        "id": "l6moFL10ImE-"
      },
      "source": [
        "Observation:\n",
        "\n",
        "*   It shows the null values in each row\n"
      ]
    },
    {
      "cell_type": "code",
      "metadata": {
        "id": "U9ZE_FZT3dIZ"
      },
      "source": [
        "df.x1.fillna(df.x1.mean(),inplace=True)\n",
        "df.x2.fillna(df.x2.mean(),inplace=True)"
      ],
      "execution_count": 71,
      "outputs": []
    },
    {
      "cell_type": "markdown",
      "metadata": {
        "id": "CJvwsz_pIudX"
      },
      "source": [
        "Observation:\n",
        "\n",
        "*   Filling null values with mean for x1 and x2"
      ]
    },
    {
      "cell_type": "code",
      "metadata": {
        "colab": {
          "base_uri": "https://localhost:8080/",
          "height": 49
        },
        "id": "ZodiRux_3dLT",
        "outputId": "454db6fb-954d-4b61-8210-41f075914e5c"
      },
      "source": [
        "#checking nan values in each row\n",
        "df[pd.isnull(df).any(axis = 1)]"
      ],
      "execution_count": 72,
      "outputs": [
        {
          "output_type": "execute_result",
          "data": {
            "text/html": [
              "<div>\n",
              "<style scoped>\n",
              "    .dataframe tbody tr th:only-of-type {\n",
              "        vertical-align: middle;\n",
              "    }\n",
              "\n",
              "    .dataframe tbody tr th {\n",
              "        vertical-align: top;\n",
              "    }\n",
              "\n",
              "    .dataframe thead th {\n",
              "        text-align: right;\n",
              "    }\n",
              "</style>\n",
              "<table border=\"1\" class=\"dataframe\">\n",
              "  <thead>\n",
              "    <tr style=\"text-align: right;\">\n",
              "      <th></th>\n",
              "      <th>x1</th>\n",
              "      <th>x2</th>\n",
              "      <th>y</th>\n",
              "    </tr>\n",
              "  </thead>\n",
              "  <tbody>\n",
              "  </tbody>\n",
              "</table>\n",
              "</div>"
            ],
            "text/plain": [
              "Empty DataFrame\n",
              "Columns: [x1, x2, y]\n",
              "Index: []"
            ]
          },
          "metadata": {
            "tags": []
          },
          "execution_count": 72
        }
      ]
    },
    {
      "cell_type": "code",
      "metadata": {
        "colab": {
          "base_uri": "https://localhost:8080/"
        },
        "id": "0gM11FGl3dNa",
        "outputId": "6b11b49b-6832-4399-94c3-20cde69b8c81"
      },
      "source": [
        "df.isnull().sum()"
      ],
      "execution_count": 73,
      "outputs": [
        {
          "output_type": "execute_result",
          "data": {
            "text/plain": [
              "x1    0\n",
              "x2    0\n",
              "y     0\n",
              "dtype: int64"
            ]
          },
          "metadata": {
            "tags": []
          },
          "execution_count": 73
        }
      ]
    },
    {
      "cell_type": "markdown",
      "metadata": {
        "id": "vB3fTq56PoVS"
      },
      "source": [
        "# **Visualization**"
      ]
    },
    {
      "cell_type": "markdown",
      "metadata": {
        "id": "rspH3zEUP22m"
      },
      "source": [
        "# **Univariate Analysis**"
      ]
    },
    {
      "cell_type": "code",
      "metadata": {
        "colab": {
          "base_uri": "https://localhost:8080/",
          "height": 1000
        },
        "id": "9m4kxd0y5c4r",
        "outputId": "0fba05b9-6646-41df-b6a8-eea00fe24ff7"
      },
      "source": [
        "#Using histogram to check normal distribution\n",
        "df.hist(figsize=(20,20),grid=True,bins=30)"
      ],
      "execution_count": 74,
      "outputs": [
        {
          "output_type": "execute_result",
          "data": {
            "text/plain": [
              "array([[<matplotlib.axes._subplots.AxesSubplot object at 0x7fe2acd1ded0>,\n",
              "        <matplotlib.axes._subplots.AxesSubplot object at 0x7fe2ac794110>],\n",
              "       [<matplotlib.axes._subplots.AxesSubplot object at 0x7fe2ac745550>,\n",
              "        <matplotlib.axes._subplots.AxesSubplot object at 0x7fe2ac6fbad0>]],\n",
              "      dtype=object)"
            ]
          },
          "metadata": {
            "tags": []
          },
          "execution_count": 74
        },
        {
          "output_type": "display_data",
          "data": {
            "image/png": "[encoded data removed]",
            "text/plain": [
              "<Figure size 1440x1440 with 4 Axes>"
            ]
          },
          "metadata": {
            "tags": [],
            "needs_background": "light"
          }
        }
      ]
    },
    {
      "cell_type": "markdown",
      "metadata": {
        "id": "daS5s7a8JUHD"
      },
      "source": [
        "Observation:\n",
        "\n",
        "*   It shows the distribution of each numerical columns"
      ]
    },
    {
      "cell_type": "code",
      "metadata": {
        "colab": {
          "base_uri": "https://localhost:8080/",
          "height": 296
        },
        "id": "b4bAtw2M7AOK",
        "outputId": "2420524a-0dd5-4375-d494-6c68fec15744"
      },
      "source": [
        "#visualization of target count\n",
        "sns.countplot(x='y',data=df)"
      ],
      "execution_count": 75,
      "outputs": [
        {
          "output_type": "execute_result",
          "data": {
            "text/plain": [
              "<matplotlib.axes._subplots.AxesSubplot at 0x7fe2ac69a3d0>"
            ]
          },
          "metadata": {
            "tags": []
          },
          "execution_count": 75
        },
        {
          "output_type": "display_data",
          "data": {
            "image/png": "[encoded data removed]",
            "text/plain": [
              "<Figure size 432x288 with 1 Axes>"
            ]
          },
          "metadata": {
            "tags": [],
            "needs_background": "light"
          }
        }
      ]
    },
    {
      "cell_type": "markdown",
      "metadata": {
        "id": "ybOAw5qNJovX"
      },
      "source": [
        "Observation:\n",
        "\n",
        "*   It shows the count of target variable 'y'.\n",
        "*   There are around 1200 '0' value and around 1000 '1' value.\n"
      ]
    },
    {
      "cell_type": "markdown",
      "metadata": {
        "id": "2jixlPDFP9wY"
      },
      "source": [
        "# **Bivariate Analysis**"
      ]
    },
    {
      "cell_type": "code",
      "metadata": {
        "colab": {
          "base_uri": "https://localhost:8080/",
          "height": 296
        },
        "id": "0NXxUc656KWp",
        "outputId": "b8558e86-ceb1-4a50-a596-d4d1f9ecd513"
      },
      "source": [
        "#visualization of x1 and y\n",
        "sns.scatterplot(x='x1',y='y',data=df)"
      ],
      "execution_count": 98,
      "outputs": [
        {
          "output_type": "execute_result",
          "data": {
            "text/plain": [
              "<matplotlib.axes._subplots.AxesSubplot at 0x7fe2abe51510>"
            ]
          },
          "metadata": {
            "tags": []
          },
          "execution_count": 98
        },
        {
          "output_type": "display_data",
          "data": {
            "image/png": "[encoded data removed]",
            "text/plain": [
              "<Figure size 432x288 with 1 Axes>"
            ]
          },
          "metadata": {
            "tags": [],
            "needs_background": "light"
          }
        }
      ]
    },
    {
      "cell_type": "markdown",
      "metadata": {
        "id": "nnEwpZklKYaQ"
      },
      "source": [
        "Observation:\n",
        "\n",
        "*   Above visualization shows that x1 data are around 0 and 1.\n",
        "\n"
      ]
    },
    {
      "cell_type": "code",
      "metadata": {
        "colab": {
          "base_uri": "https://localhost:8080/",
          "height": 296
        },
        "id": "K-LXUYM05hIH",
        "outputId": "6c8bb435-236f-4419-cec5-b8458cf2ec33"
      },
      "source": [
        "#visualization of x2 and y\n",
        "sns.lineplot(x='x2',y='y',data=df)"
      ],
      "execution_count": 99,
      "outputs": [
        {
          "output_type": "execute_result",
          "data": {
            "text/plain": [
              "<matplotlib.axes._subplots.AxesSubplot at 0x7fe2abd4cfd0>"
            ]
          },
          "metadata": {
            "tags": []
          },
          "execution_count": 99
        },
        {
          "output_type": "display_data",
          "data": {
            "image/png": "[encoded data removed]",
            "text/plain": [
              "<Figure size 432x288 with 1 Axes>"
            ]
          },
          "metadata": {
            "tags": [],
            "needs_background": "light"
          }
        }
      ]
    },
    {
      "cell_type": "markdown",
      "metadata": {
        "id": "ITBbRNpyLAQR"
      },
      "source": [
        "Observation:\n",
        "\n",
        "*   Above visualization shows the distribution of data between x2 and y.\n"
      ]
    },
    {
      "cell_type": "markdown",
      "metadata": {
        "id": "JEG1pdgGQDO8"
      },
      "source": [
        "# **Correlation**"
      ]
    },
    {
      "cell_type": "code",
      "metadata": {
        "colab": {
          "base_uri": "https://localhost:8080/",
          "height": 286
        },
        "id": "FEdZOQuA6vcq",
        "outputId": "1d34c6e2-f144-4134-a698-ab39ec220df7"
      },
      "source": [
        "#checking correlation\n",
        "corr=df.corr()\n",
        "sns.heatmap(corr,annot=True)"
      ],
      "execution_count": 101,
      "outputs": [
        {
          "output_type": "execute_result",
          "data": {
            "text/plain": [
              "<matplotlib.axes._subplots.AxesSubplot at 0x7fe2ab837750>"
            ]
          },
          "metadata": {
            "tags": []
          },
          "execution_count": 101
        },
        {
          "output_type": "display_data",
          "data": {
            "image/png": "[encoded data removed]",
            "text/plain": [
              "<Figure size 432x288 with 2 Axes>"
            ]
          },
          "metadata": {
            "tags": [],
            "needs_background": "light"
          }
        }
      ]
    },
    {
      "cell_type": "markdown",
      "metadata": {
        "id": "3SVaipetLZOz"
      },
      "source": [
        "Observation:\n",
        "\n",
        "*   x1 and x2 are negatively correlated."
      ]
    },
    {
      "cell_type": "code",
      "metadata": {
        "colab": {
          "base_uri": "https://localhost:8080/",
          "height": 442
        },
        "id": "eKYfYcU27SMq",
        "outputId": "f1fb7a02-6a2d-4bd8-da84-5245833af101"
      },
      "source": [
        "#Using boxplot to check outliers\n",
        "df.plot(figsize=(20,25),kind='box',layout=(4,3),subplots=True)"
      ],
      "execution_count": 79,
      "outputs": [
        {
          "output_type": "execute_result",
          "data": {
            "text/plain": [
              "x1       AxesSubplot(0.125,0.71587;0.227941x0.16413)\n",
              "x2    AxesSubplot(0.398529,0.71587;0.227941x0.16413)\n",
              "y     AxesSubplot(0.672059,0.71587;0.227941x0.16413)\n",
              "dtype: object"
            ]
          },
          "metadata": {
            "tags": []
          },
          "execution_count": 79
        },
        {
          "output_type": "display_data",
          "data": {
            "image/png": "[encoded data removed]",
            "text/plain": [
              "<Figure size 1440x1800 with 12 Axes>"
            ]
          },
          "metadata": {
            "tags": [],
            "needs_background": "light"
          }
        }
      ]
    },
    {
      "cell_type": "markdown",
      "metadata": {
        "id": "NbBCke2nLpWL"
      },
      "source": [
        "Observation:\n",
        "\n",
        "*   Above boxplot shows that x2 has outliers.\n"
      ]
    },
    {
      "cell_type": "code",
      "metadata": {
        "colab": {
          "base_uri": "https://localhost:8080/"
        },
        "id": "aHKSyk-n7kod",
        "outputId": "b63e83cc-d8e5-4061-9b6b-914ed248437a"
      },
      "source": [
        "#using zscore method to remove outliers\n",
        "from scipy.stats import zscore\n",
        "z=np.abs(zscore(df))\n",
        "threshold=3\n",
        "new_df=df[(z<3).all(axis=1)]\n",
        "print(df.shape)\n",
        "print(new_df.shape)"
      ],
      "execution_count": 80,
      "outputs": [
        {
          "output_type": "stream",
          "text": [
            "(2227, 3)\n",
            "(2225, 3)\n"
          ],
          "name": "stdout"
        }
      ]
    },
    {
      "cell_type": "markdown",
      "metadata": {
        "id": "HKPSC3THLyUh"
      },
      "source": [
        "Observation:\n",
        "\n",
        "*   Used z score method to remove outliers and it removed 2 rows from dataset."
      ]
    },
    {
      "cell_type": "code",
      "metadata": {
        "colab": {
          "base_uri": "https://localhost:8080/"
        },
        "id": "oB4fTNQb7xaJ",
        "outputId": "1364f3d9-9fec-4a97-835d-bdcbfee8f012"
      },
      "source": [
        "new_df.skew()"
      ],
      "execution_count": 81,
      "outputs": [
        {
          "output_type": "execute_result",
          "data": {
            "text/plain": [
              "x1     0.074146\n",
              "x2    27.172656\n",
              "y      0.230889\n",
              "dtype: float64"
            ]
          },
          "metadata": {
            "tags": []
          },
          "execution_count": 81
        }
      ]
    },
    {
      "cell_type": "markdown",
      "metadata": {
        "id": "Nne-E_ndMaSK"
      },
      "source": [
        "Observation:\n",
        "\n",
        "* We are not reducing skewness because skewness reduction method changing values to null."
      ]
    },
    {
      "cell_type": "code",
      "metadata": {
        "colab": {
          "base_uri": "https://localhost:8080/"
        },
        "id": "ua3ybbB78bPo",
        "outputId": "13e2a151-40b6-4a1e-e316-1e1efc124030"
      },
      "source": [
        "new_df.isnull().sum()"
      ],
      "execution_count": 82,
      "outputs": [
        {
          "output_type": "execute_result",
          "data": {
            "text/plain": [
              "x1    0\n",
              "x2    0\n",
              "y     0\n",
              "dtype: int64"
            ]
          },
          "metadata": {
            "tags": []
          },
          "execution_count": 82
        }
      ]
    },
    {
      "cell_type": "code",
      "metadata": {
        "id": "z-SZ96688fNH"
      },
      "source": [
        "#Assigning input and target data\n",
        "X=new_df.drop(['y'],axis=1)\n",
        "Y=new_df[['y']]"
      ],
      "execution_count": 83,
      "outputs": []
    },
    {
      "cell_type": "markdown",
      "metadata": {
        "id": "S08SToWOQViF"
      },
      "source": [
        "# **Scaling**"
      ]
    },
    {
      "cell_type": "code",
      "metadata": {
        "id": "Ealim2Ue8m43"
      },
      "source": [
        "#Scaling data using Standard Scaler\n",
        "from sklearn.preprocessing import StandardScaler\n",
        "sc=StandardScaler()\n",
        "ScaledX=sc.fit_transform(X)"
      ],
      "execution_count": 84,
      "outputs": []
    },
    {
      "cell_type": "markdown",
      "metadata": {
        "id": "ti-1BGuNQa3y"
      },
      "source": [
        "# **Finding Best Model**"
      ]
    },
    {
      "cell_type": "code",
      "metadata": {
        "id": "CJndqsPd8sue"
      },
      "source": [
        "#importing imporant libraries for models\n",
        "from sklearn.linear_model import LogisticRegression\n",
        "from sklearn.tree import DecisionTreeClassifier\n",
        "from sklearn.svm import SVC\n",
        "from sklearn.neighbors import KNeighborsClassifier\n",
        "\n",
        "#importing train test split library\n",
        "from sklearn.model_selection import cross_val_score, train_test_split\n",
        "\n",
        "#importing error metrics\n",
        "from sklearn.metrics import accuracy_score, classification_report, confusion_matrix, roc_auc_score, roc_curve\n",
        "from sklearn.model_selection import GridSearchCV, cross_val_score\n"
      ],
      "execution_count": 85,
      "outputs": []
    },
    {
      "cell_type": "code",
      "metadata": {
        "colab": {
          "base_uri": "https://localhost:8080/"
        },
        "id": "1amV07_87sxy",
        "outputId": "2e2f5ad7-395c-4d3d-f70f-bd2c2ac40333"
      },
      "source": [
        "#Finding best model and random state\n",
        "best_rstate_clas=0\n",
        "best_accu_rate=0\n",
        "models=[LogisticRegression(), DecisionTreeClassifier(), SVC(kernel ='linear', C = 1),SVC(kernel ='rbf', C = 1), KNeighborsClassifier()]\n",
        "for r in range(1,200):\n",
        "    x_train, x_test, y_train, y_test=train_test_split(ScaledX,Y,test_size=0.33,random_state=r, stratify=Y)\n",
        "    for model in models:\n",
        "        model.fit(x_train,y_train)\n",
        "        pred_test=model.predict(x_test)\n",
        "        pred_train=model.predict(x_train)\n",
        "        accu_score=accuracy_score(y_test,pred_test)\n",
        "        if accu_score>best_accu_rate: \n",
        "            if round(accuracy_score(y_train,pred_train)*100,1)==round(accuracy_score(y_test,pred_test)*100,1):\n",
        "                print(\"best random state\",r)\n",
        "                print(\"At random state\",r)\n",
        "                print(\"Training score :\",accuracy_score(y_train,pred_train)*100)\n",
        "                print(\"Testing score :\",accuracy_score(y_test,pred_test)*100)\n",
        "                print(\"Model : \", model)\n",
        "                best_rstate_clas=r\n",
        "                best_accu_rate=accu_score"
      ],
      "execution_count": 88,
      "outputs": [
        {
          "output_type": "stream",
          "text": [
            "best random state 2\n",
            "At random state 2\n",
            "Training score : 63.892617449664435\n",
            "Testing score : 63.94557823129252\n",
            "Model :  SVC(C=1, break_ties=False, cache_size=200, class_weight=None, coef0=0.0,\n",
            "    decision_function_shape='ovr', degree=3, gamma='scale', kernel='rbf',\n",
            "    max_iter=-1, probability=False, random_state=None, shrinking=True,\n",
            "    tol=0.001, verbose=False)\n",
            "best random state 11\n",
            "At random state 11\n",
            "Training score : 70.67114093959731\n",
            "Testing score : 70.74829931972789\n",
            "Model :  SVC(C=1, break_ties=False, cache_size=200, class_weight=None, coef0=0.0,\n",
            "    decision_function_shape='ovr', degree=3, gamma='scale', kernel='rbf',\n",
            "    max_iter=-1, probability=False, random_state=None, shrinking=True,\n",
            "    tol=0.001, verbose=False)\n",
            "best random state 11\n",
            "At random state 11\n",
            "Training score : 94.83221476510067\n",
            "Testing score : 94.82993197278911\n",
            "Model :  KNeighborsClassifier(algorithm='auto', leaf_size=30, metric='minkowski',\n",
            "                     metric_params=None, n_jobs=None, n_neighbors=5, p=2,\n",
            "                     weights='uniform')\n"
          ],
          "name": "stdout"
        }
      ]
    },
    {
      "cell_type": "markdown",
      "metadata": {
        "id": "GHsZOFpFMner"
      },
      "source": [
        "Observation:\n",
        "\n",
        "* KNeighborsClassifier is the best model compare to other models.\n",
        "* It has accuracy score of 0.94 at random state 11."
      ]
    },
    {
      "cell_type": "markdown",
      "metadata": {
        "id": "qgPHkgjSQgmo"
      },
      "source": [
        "# **Hyperparameter Tuning**"
      ]
    },
    {
      "cell_type": "code",
      "metadata": {
        "colab": {
          "base_uri": "https://localhost:8080/"
        },
        "id": "EGW92jGK7iVN",
        "outputId": "60357224-4dfd-4655-914f-68dde1a0c060"
      },
      "source": [
        "x_train, x_test, y_train, y_test=train_test_split(ScaledX,Y,test_size=0.33,random_state=11)\n",
        "\n",
        "#List Hyperparameters that we want to tune.\n",
        "leaf_size = list(range(1,50))\n",
        "n_neighbors = list(range(1,30))\n",
        "p=[1,2]\n",
        "\n",
        "param_grid_KNC= dict(leaf_size=leaf_size, n_neighbors=n_neighbors, p=p)\n",
        "\n",
        "gridsearch_KNC=GridSearchCV(KNeighborsClassifier(), param_grid_KNC, refit=True)\n",
        "gridsearch_KNC.fit(x_train,y_train)\n",
        "pred_KNC=gridsearch_KNC.predict(x_test)\n",
        "KNC_best_parm=gridsearch_KNC.best_params_\n",
        "print(\"Best Param \",gridsearch_KNC.best_params_)\n",
        "print(\"Best estimator \",gridsearch_KNC.best_estimator_)\n",
        "print(\"Best score \",gridsearch_KNC.best_score_)"
      ],
      "execution_count": 89,
      "outputs": [
        {
          "output_type": "stream",
          "text": [
            "Best Param  {'leaf_size': 1, 'n_neighbors': 7, 'p': 2}\n",
            "Best estimator  KNeighborsClassifier(algorithm='auto', leaf_size=1, metric='minkowski',\n",
            "                     metric_params=None, n_jobs=None, n_neighbors=7, p=2,\n",
            "                     weights='uniform')\n",
            "Best score  0.9328859060402683\n"
          ],
          "name": "stdout"
        }
      ]
    },
    {
      "cell_type": "markdown",
      "metadata": {
        "id": "mawmoiRTNL-8"
      },
      "source": [
        "Observation:\n",
        "* KNeighborsClassifier(algorithm='auto', leaf_size=1, metric='minkowski', metric_params=None, n_jobs=None, n_neighbors=7, p=2, weights='uniform') is the best parameter.\n"
      ]
    },
    {
      "cell_type": "code",
      "metadata": {
        "colab": {
          "base_uri": "https://localhost:8080/"
        },
        "id": "IHiKnjrC6syy",
        "outputId": "5bb74adb-3a51-4f7b-db38-b5e7b6688f9a"
      },
      "source": [
        "KC=KNeighborsClassifier(algorithm='auto', leaf_size=1, metric='minkowski',\n",
        "                     metric_params=None, n_jobs=None, n_neighbors=7, p=2,\n",
        "                     weights='uniform')\n",
        "KC.fit(x_train,y_train)\n",
        "pred_KC=KC.predict(x_test)\n",
        "lss=accuracy_score(y_test,pred_KC)\n",
        "for j in range(2,20):\n",
        "    lssscore=cross_val_score(KC,ScaledX,Y,cv=j)\n",
        "    lsc=lssscore.mean()\n",
        "    print(\"At CV : \",j)\n",
        "    print(\"cross validation score is :\",lsc*100)\n",
        "    print(\"accuracy_score is :\",lss*100)\n",
        "    print('\\n')\n"
      ],
      "execution_count": 90,
      "outputs": [
        {
          "output_type": "stream",
          "text": [
            "At CV :  2\n",
            "cross validation score is : 91.10055621271177\n",
            "accuracy_score is : 94.14965986394557\n",
            "\n",
            "\n",
            "At CV :  3\n",
            "cross validation score is : 91.23564838559872\n",
            "accuracy_score is : 94.14965986394557\n",
            "\n",
            "\n",
            "At CV :  4\n",
            "cross validation score is : 92.31349211474627\n",
            "accuracy_score is : 94.14965986394557\n",
            "\n",
            "\n",
            "At CV :  5\n",
            "cross validation score is : 92.53932584269663\n",
            "accuracy_score is : 94.14965986394557\n",
            "\n",
            "\n",
            "At CV :  6\n",
            "cross validation score is : 92.04256817464363\n",
            "accuracy_score is : 94.14965986394557\n",
            "\n",
            "\n",
            "At CV :  7\n",
            "cross validation score is : 92.22169315318533\n",
            "accuracy_score is : 94.14965986394557\n",
            "\n",
            "\n",
            "At CV :  8\n",
            "cross validation score is : 92.0882648719734\n",
            "accuracy_score is : 94.14965986394557\n",
            "\n",
            "\n",
            "At CV :  9\n",
            "cross validation score is : 92.08839406207827\n",
            "accuracy_score is : 94.14965986394557\n",
            "\n",
            "\n",
            "At CV :  10\n",
            "cross validation score is : 92.76350341372763\n",
            "accuracy_score is : 94.14965986394557\n",
            "\n",
            "\n",
            "At CV :  11\n",
            "cross validation score is : 92.4463382298821\n",
            "accuracy_score is : 94.14965986394557\n",
            "\n",
            "\n",
            "At CV :  12\n",
            "cross validation score is : 92.08732926474862\n",
            "accuracy_score is : 94.14965986394557\n",
            "\n",
            "\n",
            "At CV :  13\n",
            "cross validation score is : 91.90884934458985\n",
            "accuracy_score is : 94.14965986394557\n",
            "\n",
            "\n",
            "At CV :  14\n",
            "cross validation score is : 91.77414218613168\n",
            "accuracy_score is : 94.14965986394557\n",
            "\n",
            "\n",
            "At CV :  15\n",
            "cross validation score is : 91.41120986758573\n",
            "accuracy_score is : 94.14965986394557\n",
            "\n",
            "\n",
            "At CV :  16\n",
            "cross validation score is : 91.99672404933197\n",
            "accuracy_score is : 94.14965986394557\n",
            "\n",
            "\n",
            "At CV :  17\n",
            "cross validation score is : 92.08731995440573\n",
            "accuracy_score is : 94.14965986394557\n",
            "\n",
            "\n",
            "At CV :  18\n",
            "cross validation score is : 92.08664801701781\n",
            "accuracy_score is : 94.14965986394557\n",
            "\n",
            "\n",
            "At CV :  19\n",
            "cross validation score is : 92.80366278582157\n",
            "accuracy_score is : 94.14965986394557\n",
            "\n",
            "\n"
          ],
          "name": "stdout"
        }
      ]
    },
    {
      "cell_type": "code",
      "metadata": {
        "colab": {
          "base_uri": "https://localhost:8080/"
        },
        "id": "p0Vv42yd3dQf",
        "outputId": "0b8c8633-0f13-49ff-8546-8c88e2d5c604"
      },
      "source": [
        "#Classification Report\n",
        "print(classification_report(y_test,pred_KC))"
      ],
      "execution_count": 91,
      "outputs": [
        {
          "output_type": "stream",
          "text": [
            "              precision    recall  f1-score   support\n",
            "\n",
            "           0       0.94      0.96      0.95       413\n",
            "           1       0.95      0.92      0.93       322\n",
            "\n",
            "    accuracy                           0.94       735\n",
            "   macro avg       0.94      0.94      0.94       735\n",
            "weighted avg       0.94      0.94      0.94       735\n",
            "\n"
          ],
          "name": "stdout"
        }
      ]
    },
    {
      "cell_type": "code",
      "metadata": {
        "colab": {
          "base_uri": "https://localhost:8080/"
        },
        "id": "5qxACW5NCncl",
        "outputId": "a210ff2e-70fa-44f7-89c6-12b01e3a5883"
      },
      "source": [
        "#Final CV score and accuracy score\n",
        "lssscore_selected=cross_val_score(KC,ScaledX,Y,cv=19).mean()\n",
        "print(\"The CV score is\",lssscore_selected,\" \\nThe accuracy score is\",lss)"
      ],
      "execution_count": 93,
      "outputs": [
        {
          "output_type": "stream",
          "text": [
            "The CV score is 0.9280366278582157  \n",
            "The accuracy score is 0.9414965986394558\n"
          ],
          "name": "stdout"
        }
      ]
    },
    {
      "cell_type": "code",
      "metadata": {
        "colab": {
          "base_uri": "https://localhost:8080/",
          "height": 299
        },
        "id": "2lxQejLzCnoG",
        "outputId": "8da7c45a-acf1-4d0f-c5a2-ce02b8dfede0"
      },
      "source": [
        "#Roc curve\n",
        "from sklearn.metrics import roc_curve, roc_auc_score,auc\n",
        "\n",
        "y_pred_prob=KC.predict_proba(x_test)[:,1]\n",
        "fpr,tpr,thresholds=roc_curve(y_test, y_pred_prob)\n",
        "auc_score=roc_auc_score(y_test, pred_KC)\n",
        "plt.figure\n",
        "plt.plot(fpr,tpr,color='darkorange',lw=10,label='ROC curve (area=%0.2f)'%auc_score)\n",
        "plt.legend(loc=\"lower right\")\n",
        "plt.show()\n",
        "print(auc_score)\n",
        "roc_auc=auc(fpr,tpr)\n",
        "print(roc_auc)"
      ],
      "execution_count": 94,
      "outputs": [
        {
          "output_type": "display_data",
          "data": {
            "image/png": "[encoded data removed]",
            "text/plain": [
              "<Figure size 432x288 with 1 Axes>"
            ]
          },
          "metadata": {
            "tags": [],
            "needs_background": "light"
          }
        },
        {
          "output_type": "stream",
          "text": [
            "0.9390462153910938\n",
            "0.9870663077316411\n"
          ],
          "name": "stdout"
        }
      ]
    },
    {
      "cell_type": "markdown",
      "metadata": {
        "id": "sPHsKRU2NhxD"
      },
      "source": [
        "Observation:\n",
        "* roc_auc score is 0.987.\n",
        "* auc_score is 0.93."
      ]
    },
    {
      "cell_type": "code",
      "metadata": {
        "id": "L1_b0dKPCnrK"
      },
      "source": [
        "#saving the model \n",
        "import pickle\n",
        "filename='Innomatics.pkl'\n",
        "pickle.dump(KC,open(filename,'wb'))"
      ],
      "execution_count": 100,
      "outputs": []
    },
    {
      "cell_type": "markdown",
      "metadata": {
        "id": "Qq2Ad2RaQqpY"
      },
      "source": [
        "# **Conclusion**"
      ]
    },
    {
      "cell_type": "markdown",
      "metadata": {
        "id": "tOX81HvKOItz"
      },
      "source": [
        "* We did exploratory data analysis by removing columns and label encoding.\n",
        "\n",
        "* Visualized data by univariate and bivariate analysis.\n",
        "\n",
        "* Checked correlation and visualized using heatmap.\n",
        "\n",
        "* Scaled the data using standard scaler method\n",
        "\n",
        "KNeighborsClassifier is the best model with random state 11.\n",
        "\n",
        "Performed Hyperparameter tuning for KNeighborsClassifier.\n",
        "\n",
        "Final score of KNeighborsClassifier:\n",
        "\n",
        "            *  CV score is 0.92\n",
        "            *  Accuracy score is 0.941\n",
        "            *  roc_auc score is 0.987.\n",
        "Finally, Saved the model."
      ]
    },
    {
      "cell_type": "code",
      "metadata": {
        "id": "fHiqOG8CCnxA"
      },
      "source": [
        ""
      ],
      "execution_count": null,
      "outputs": []
    }
  ]
}